{
 "cells": [
  {
   "cell_type": "code",
   "execution_count": 4,
   "id": "f0593b4f-63f0-427b-94f3-fc29a46db8f7",
   "metadata": {},
   "outputs": [
    {
     "data": {
      "text/plain": [
       "\"Here's one:\\n\\nWhy don't eggs tell jokes?\\n\\nBecause they'd crack each other up!\\n\\nHope that made you smile! Do you want to hear another one?\""
      ]
     },
     "execution_count": 4,
     "metadata": {},
     "output_type": "execute_result"
    }
   ],
   "source": [
    "from langchain_community.llms import Ollama\n",
    "\n",
    "llama_model = Ollama(model=\"llama3\")\n",
    "\n",
    "llm.invoke(\"Tell me a joke\")"
   ]
  },
  {
   "cell_type": "code",
   "execution_count": 6,
   "id": "583b405e-91cc-4724-9220-ee69623cb9da",
   "metadata": {},
   "outputs": [
    {
     "data": {
      "text/plain": [
       "\"As an AI developed by Microsoft, my primary goal is to assist and provide value through information, guidance, and various forms of support in accordance with my capabilities. The utility I offer depends on the tasks at hand and how well they align with what I have been designed for. Whether it'amo about answering questions, offering suggestions, or helping users navigate complex topics, my effectiveness is rooted in the specific context of each interaction.\""
      ]
     },
     "execution_count": 6,
     "metadata": {},
     "output_type": "execute_result"
    }
   ],
   "source": [
    "llm = Ollama(model=\"phi3:medium\")\n",
    "\n",
    "llm.invoke(\"are you useful?\")"
   ]
  },
  {
   "cell_type": "code",
   "execution_count": 7,
   "id": "b947436a-d7c3-4743-9fcc-8b6d5f8853ba",
   "metadata": {},
   "outputs": [],
   "source": [
    "from langchain.prompts import PromptTemplate\n",
    "\n",
    "from langchain.chains import LLMChain"
   ]
  },
  {
   "cell_type": "code",
   "execution_count": 9,
   "id": "60aeeffc-7067-4ad7-abf8-d3f904aa79fe",
   "metadata": {},
   "outputs": [],
   "source": [
    "prompt = PromptTemplate(input_variables=['question'], template=\"You are helpful retail bot that answer questions by customers about cloth quality\")"
   ]
  },
  {
   "cell_type": "code",
   "execution_count": null,
   "id": "4ea00cd3-3d3c-44d5-a79c-b7ad21308452",
   "metadata": {},
   "outputs": [],
   "source": []
  },
  {
   "cell_type": "markdown",
   "id": "95deaa78-3904-4973-8832-ffe88161f992",
   "metadata": {},
   "source": [
    "##### LLM Agents"
   ]
  },
  {
   "cell_type": "code",
   "execution_count": 8,
   "id": "7a17d697-bf96-4da3-b5d6-4b3249e338d6",
   "metadata": {},
   "outputs": [],
   "source": [
    "from langchain.agents import load_tools\n",
    "from langchain.agents import initialize_agent"
   ]
  },
  {
   "cell_type": "code",
   "execution_count": null,
   "id": "9188a5d4-bf9d-45cf-9316-1a77ad9f1fbe",
   "metadata": {},
   "outputs": [],
   "source": []
  }
 ],
 "metadata": {
  "kernelspec": {
   "display_name": "Python 3 (ipykernel)",
   "language": "python",
   "name": "python3"
  },
  "language_info": {
   "codemirror_mode": {
    "name": "ipython",
    "version": 3
   },
   "file_extension": ".py",
   "mimetype": "text/x-python",
   "name": "python",
   "nbconvert_exporter": "python",
   "pygments_lexer": "ipython3",
   "version": "3.11.9"
  }
 },
 "nbformat": 4,
 "nbformat_minor": 5
}
